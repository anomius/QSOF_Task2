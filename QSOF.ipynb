{
  "nbformat": 4,
  "nbformat_minor": 2,
  "metadata": {
    "colab": {
      "name": "QSOF.ipynb",
      "provenance": []
    },
    "kernelspec": {
      "name": "python3",
      "display_name": "Python 3.8.8 64-bit ('base': conda)"
    },
    "language_info": {
      "name": "python",
      "version": "3.8.8",
      "mimetype": "text/x-python",
      "codemirror_mode": {
        "name": "ipython",
        "version": 3
      },
      "pygments_lexer": "ipython3",
      "nbconvert_exporter": "python",
      "file_extension": ".py"
    },
    "interpreter": {
      "hash": "b3ba2566441a7c06988d0923437866b63cedc61552a5af99d1f4fb67d367b25f"
    }
  },
  "cells": [
    {
      "cell_type": "markdown",
      "source": [
        "## Imports\r\n",
        "As before, we import PennyLane, the PennyLane-provided version of NumPy, and an optimizer."
      ],
      "metadata": {}
    },
    {
      "cell_type": "code",
      "execution_count": 19,
      "source": [
        "try:\r\n",
        "    import pennylane as qml\r\n",
        "    print(\"Successfully imported PennyLane.\")\r\n",
        "except:\r\n",
        "    !pip install pennylane\r\n",
        "    import pennylane as qml\r\n",
        "from pennylane import numpy as np\r\n",
        "import matplotlib.pyplot as plt\r\n",
        "from pennylane.optimize import NesterovMomentumOptimizer"
      ],
      "outputs": [
        {
          "output_type": "stream",
          "name": "stdout",
          "text": [
            "Successfully imported PennyLane.\n"
          ]
        }
      ],
      "metadata": {
        "id": "r-ICmfSqXiTD"
      }
    },
    {
      "cell_type": "markdown",
      "source": [
        "# Quantum and classical nodes\r\n",
        "\r\n",
        "We create a quantum device with four “wires” (or qubits).\r\n",
        "also known as Quantum Circuits."
      ],
      "metadata": {}
    },
    {
      "cell_type": "code",
      "execution_count": 20,
      "source": [
        "dev = qml.device(\"default.qubit\", wires=4,shots=10)"
      ],
      "outputs": [],
      "metadata": {
        "id": "HFIAmAFdX18P"
      }
    },
    {
      "cell_type": "markdown",
      "source": [
        "We need a way to encode data inputs xx into the circuit, so that the measured output depends on the inputs. the inputs are bitstrings, which we encode into the state of the qubits. The quantum state $\\psi$ after state preparation is a computational basis state that has 1s where $x$ has 1s, for example\r\n",
        "$$\r\n",
        "x=0101 \\rightarrow |\\psi\\rangle=|0101\\rangle\r\n",
        "$$\r\n",
        "\r\n",
        "\r\n",
        "We use the [`BasisState`](https://pennylane.readthedocs.io/en/stable/code/api/pennylane.BasisState.html) function provided by PennyLane, which expects `x` to be a list of zeros and ones, i.e. `[0,1,0,1]`.\r\n",
        "\r\n"
      ],
      "metadata": {}
    },
    {
      "cell_type": "code",
      "execution_count": 21,
      "source": [
        "def statepreparation(x):\r\n",
        "    qml.BasisState(x, wires=[0, 1, 2, 3])"
      ],
      "outputs": [],
      "metadata": {
        "id": "JUFxQ9zJYIyl"
      }
    },
    {
      "cell_type": "markdown",
      "source": [
        "Lets create a *block* which is an elementary circuit architecture that gets repeated to build the variational circuit.\r\n",
        "\r\n",
        "Our circuit layer consists of an arbitrary rotation on every qubit, as well as CNOTs that entangle each qubit with its neighbour."
      ],
      "metadata": {}
    },
    {
      "cell_type": "code",
      "execution_count": 22,
      "source": [
        "def layer(W):\r\n",
        "\r\n",
        "    qml.Rot(W[0, 0], W[0, 1], W[0, 2], wires=0)\r\n",
        "    qml.Rot(W[1, 0], W[1, 1], W[1, 2], wires=1)\r\n",
        "    qml.Rot(W[2, 0], W[2, 1], W[2, 2], wires=2)\r\n",
        "    qml.Rot(W[3, 0], W[3, 1], W[3, 2], wires=3)\r\n",
        "\r\n",
        "    qml.CNOT(wires=[0, 1])\r\n",
        "    qml.CNOT(wires=[1, 2])\r\n",
        "    qml.CNOT(wires=[2, 3])\r\n",
        "    qml.CNOT(wires=[3, 0])"
      ],
      "outputs": [],
      "metadata": {
        "id": "ZePD6UtwX90-"
      }
    },
    {
      "cell_type": "code",
      "execution_count": 23,
      "source": [
        "@qml.qnode(dev)\r\n",
        "def circuit(weights, x):\r\n",
        "\r\n",
        "    statepreparation(x)\r\n",
        "\r\n",
        "    for W in weights:\r\n",
        "        layer(W)\r\n",
        "\r\n",
        "    return [qml.expval(qml.PauliZ(0)),qml.expval(qml.PauliZ(1)),qml.expval(qml.PauliZ(2)),qml.expval(qml.PauliZ(3))]"
      ],
      "outputs": [],
      "metadata": {
        "id": "g7o37CBrYQuV"
      }
    },
    {
      "cell_type": "code",
      "execution_count": 24,
      "source": [
        "def variational_circut(var, x):\r\n",
        "    weights = var\r\n",
        "    return circuit(weights, x)"
      ],
      "outputs": [],
      "metadata": {
        "id": "73K1Z10pYgKF"
      }
    },
    {
      "cell_type": "markdown",
      "source": [
        "We use the standard square loss that measures the distance between target labels and model predictions."
      ],
      "metadata": {}
    },
    {
      "cell_type": "code",
      "execution_count": 25,
      "source": [
        "def square_loss(labels, predictions):\r\n",
        "    loss = 0\r\n",
        "    for l, p in zip(labels, predictions):\r\n",
        "      for i in range(len(l)):\r\n",
        "        loss = loss + (l[i] - p[i]) ** 2\r\n",
        "\r\n",
        "    loss = loss / (len(labels)*len(l))\r\n",
        "    print(loss)\r\n",
        "    return loss"
      ],
      "outputs": [],
      "metadata": {
        "id": "xSMnE2mJYyZ2"
      }
    },
    {
      "cell_type": "code",
      "execution_count": 26,
      "source": [
        "def accuracy(labels, predictions):\r\n",
        "\r\n",
        "    loss = 0\r\n",
        "    for l, p in zip(labels, predictions):\r\n",
        "        for i in range(len(l)):\r\n",
        "          if abs(l[i] - p[i]) < 1e-5:\r\n",
        "              loss += 1\r\n",
        "          \r\n",
        "    loss = loss / (len(labels)*len(l))\r\n",
        "\r\n",
        "    return loss"
      ],
      "outputs": [],
      "metadata": {
        "id": "qGBDad11Y3_-"
      }
    },
    {
      "cell_type": "code",
      "execution_count": 27,
      "source": [
        "def cost(var, X, Y):\r\n",
        "    predictions = [variational_circut(var, x) for x in X]\r\n",
        "    return square_loss(Y, predictions)"
      ],
      "outputs": [],
      "metadata": {
        "id": "SZpBMMVZaIad"
      }
    },
    {
      "cell_type": "markdown",
      "source": [
        "## Random States Selected and transitions\r\n",
        "\r\n",
        "$$ |0100\\rangle \\longrightarrow |0011\\rangle $$\r\n",
        "<img src=\"output 0100.png\">\r\n",
        "\r\n",
        "$$ |0110\\rangle \\longrightarrow |0101\\rangle $$\r\n",
        "<img src=\"output 0110.png\">\r\n",
        "\r\n",
        "\r\n",
        "$$ |1000\\rangle \\longrightarrow |1010\\rangle $$\r\n",
        "<img src=\"output 1000.png\">\r\n",
        "\r\n",
        "\r\n",
        "$$ |1010\\rangle \\longrightarrow |1100\\rangle $$\r\n",
        "<img src=\"output 1010.png\">\r\n",
        "\r\n",
        "*where every Quadrant represents a state of the qubit.*\r\n",
        "<br>\r\n",
        "<img src=\"frame.png\"> \r\n",
        "\r\n",
        "\r\n",
        "<hr>\r\n",
        "\r\n",
        "and added this to the list of data.\r\n",
        "\r\n"
      ],
      "metadata": {}
    },
    {
      "cell_type": "code",
      "execution_count": 28,
      "source": [
        "data=[[0,1,0,0,0,0,1,1],\r\n",
        "      [0,1,1,0,0,1,0,1],\r\n",
        "      [1,0,0,0,1,0,1,0],\r\n",
        "      [1,0,1,0,1,1,0,0]]\r\n"
      ],
      "outputs": [],
      "metadata": {
        "id": "ruGwhsdnbDOd"
      }
    },
    {
      "cell_type": "code",
      "execution_count": 29,
      "source": [
        "data = np.array(data)\r\n",
        "X = np.array(data[:, :-4], requires_grad=False)\r\n",
        "Y = np.array(data[:, -4:], requires_grad=False)\r\n",
        "Y = Y * 2 - np.ones(len(Y))  # shift label from {0, 1} to {-1, 1}\r\n",
        "\r\n",
        "for i in range(4):\r\n",
        "    print(\"X = {}, Y = {}\".format(X[i], Y[i]))\r\n",
        "\r\n",
        "print(\"...\")"
      ],
      "outputs": [
        {
          "output_type": "stream",
          "name": "stdout",
          "text": [
            "X = [0 1 0 0], Y = [-1. -1.  1.  1.]\n",
            "X = [0 1 1 0], Y = [-1.  1. -1.  1.]\n",
            "X = [1 0 0 0], Y = [ 1. -1.  1. -1.]\n",
            "X = [1 0 1 0], Y = [ 1.  1. -1. -1.]\n",
            "...\n"
          ]
        }
      ],
      "metadata": {
        "colab": {
          "base_uri": "https://localhost:8080/"
        },
        "id": "LMGYfHVQaLks",
        "outputId": "af6eacc4-00ea-409b-8b5e-3dbfdfd5f19f"
      }
    },
    {
      "cell_type": "markdown",
      "source": [
        "We initialize the parameters randomly for the first iteration."
      ],
      "metadata": {}
    },
    {
      "cell_type": "code",
      "execution_count": 30,
      "source": [
        "np.random.seed(42)\r\n",
        "num_qubits = 4\r\n",
        "num_layers = 4\r\n",
        "var_init = (0.01 * np.random.randn(num_layers, num_qubits, 3))\r\n",
        "\r\n",
        "print(var_init)"
      ],
      "outputs": [
        {
          "output_type": "stream",
          "name": "stdout",
          "text": [
            "[[[ 0.00496714 -0.00138264  0.00647689]\n",
            "  [ 0.0152303  -0.00234153 -0.00234137]\n",
            "  [ 0.01579213  0.00767435 -0.00469474]\n",
            "  [ 0.0054256  -0.00463418 -0.0046573 ]]\n",
            "\n",
            " [[ 0.00241962 -0.0191328  -0.01724918]\n",
            "  [-0.00562288 -0.01012831  0.00314247]\n",
            "  [-0.00908024 -0.01412304  0.01465649]\n",
            "  [-0.00225776  0.00067528 -0.01424748]]\n",
            "\n",
            " [[-0.00544383  0.00110923 -0.01150994]\n",
            "  [ 0.00375698 -0.00600639 -0.00291694]\n",
            "  [-0.00601707  0.01852278 -0.00013497]\n",
            "  [-0.01057711  0.00822545 -0.01220844]]\n",
            "\n",
            " [[ 0.00208864 -0.0195967  -0.01328186]\n",
            "  [ 0.00196861  0.00738467  0.00171368]\n",
            "  [-0.00115648 -0.00301104 -0.01478522]\n",
            "  [-0.00719844 -0.00460639  0.01057122]]]\n"
          ]
        }
      ],
      "metadata": {
        "colab": {
          "base_uri": "https://localhost:8080/"
        },
        "id": "j7hvyiJPabQ0",
        "outputId": "d8003c3f-1e04-470b-bfb7-d93d859a2015"
      }
    },
    {
      "cell_type": "markdown",
      "source": [
        "Next we create an optimizer and choose a batch size… as there is no training data, we use a batch size of 4"
      ],
      "metadata": {}
    },
    {
      "cell_type": "code",
      "execution_count": 31,
      "source": [
        "opt = NesterovMomentumOptimizer(0.2)\r\n",
        "batch_size = 4"
      ],
      "outputs": [],
      "metadata": {
        "id": "oIxzg9A-agdM"
      }
    },
    {
      "cell_type": "markdown",
      "source": [
        "and train the optimizer. We track the accuracy - the share of correctly classified data samples. For this we compute the outputs of the variational classifier and turn them into predictions in \r\n",
        "$$\\{-1,1\\}$$\r\n",
        "by taking the sign of the output."
      ],
      "metadata": {}
    },
    {
      "cell_type": "code",
      "execution_count": 32,
      "source": [
        "var = var_init\r\n",
        "for it in range(30):\r\n",
        "\r\n",
        "    # Update the weights by one optimizer step\r\n",
        "    batch_index = np.random.randint(0, len(X), (batch_size,))\r\n",
        "    X_batch = X[batch_index]\r\n",
        "    Y_batch = Y[batch_index]\r\n",
        "    var = opt.step(lambda v: cost(v, X_batch, Y_batch), var)\r\n",
        "\r\n",
        "    # Compute accuracy\r\n",
        "    predictions = [np.sign(variational_circut(var, x)) for x in X]\r\n",
        "    acc = accuracy(Y, predictions)\r\n",
        "\r\n",
        "    print(\r\n",
        "        \"Iter: {:5d} | Cost: {:0.7f} | Accuracy: {:0.7f} \".format(\r\n",
        "            it + 1, cost(var, X, Y), acc\r\n",
        "        )\r\n",
        "    )\r\n"
      ],
      "outputs": [
        {
          "output_type": "stream",
          "name": "stdout",
          "text": [
            "Autograd ArrayBox with value 2.5\n",
            "2.0\n",
            "Iter:     1 | Cost: 2.0000000 | Accuracy: 0.5000000 \n",
            "Autograd ArrayBox with value 1.8625000000000003\n",
            "1.745\n",
            "Iter:     2 | Cost: 1.7450000 | Accuracy: 0.5000000 \n",
            "Autograd ArrayBox with value 1.9075\n",
            "1.3725000000000005\n",
            "Iter:     3 | Cost: 1.3725000 | Accuracy: 0.5000000 \n",
            "Autograd ArrayBox with value 1.1349999999999998\n",
            "1.1199999999999999\n",
            "Iter:     4 | Cost: 1.1200000 | Accuracy: 0.5000000 \n",
            "Autograd ArrayBox with value 1.18\n",
            "1.0549999999999997\n",
            "Iter:     5 | Cost: 1.0550000 | Accuracy: 0.3750000 \n",
            "Autograd ArrayBox with value 0.8824999999999998\n",
            "0.69\n",
            "Iter:     6 | Cost: 0.6900000 | Accuracy: 0.5000000 \n",
            "Autograd ArrayBox with value 0.5775000000000001\n",
            "0.8075\n",
            "Iter:     7 | Cost: 0.8075000 | Accuracy: 0.6875000 \n",
            "Autograd ArrayBox with value 1.0175\n",
            "1.085\n",
            "Iter:     8 | Cost: 1.0850000 | Accuracy: 0.5625000 \n",
            "Autograd ArrayBox with value 0.5900000000000001\n",
            "0.6524999999999999\n",
            "Iter:     9 | Cost: 0.6525000 | Accuracy: 0.8125000 \n",
            "Autograd ArrayBox with value 0.8825\n",
            "0.8925000000000001\n",
            "Iter:    10 | Cost: 0.8925000 | Accuracy: 0.8125000 \n",
            "Autograd ArrayBox with value 0.9149999999999999\n",
            "0.4050000000000001\n",
            "Iter:    11 | Cost: 0.4050000 | Accuracy: 0.8750000 \n",
            "Autograd ArrayBox with value 0.6\n",
            "0.4200000000000001\n",
            "Iter:    12 | Cost: 0.4200000 | Accuracy: 1.0000000 \n",
            "Autograd ArrayBox with value 0.5075000000000002\n",
            "0.24750000000000005\n",
            "Iter:    13 | Cost: 0.2475000 | Accuracy: 1.0000000 \n",
            "Autograd ArrayBox with value 0.265\n",
            "0.14500000000000002\n",
            "Iter:    14 | Cost: 0.1450000 | Accuracy: 0.9375000 \n",
            "Autograd ArrayBox with value 0.3225\n",
            "0.19250000000000006\n",
            "Iter:    15 | Cost: 0.1925000 | Accuracy: 1.0000000 \n",
            "Autograd ArrayBox with value 0.29000000000000004\n",
            "0.12000000000000002\n",
            "Iter:    16 | Cost: 0.1200000 | Accuracy: 1.0000000 \n",
            "Autograd ArrayBox with value 0.12000000000000002\n",
            "0.2925000000000001\n",
            "Iter:    17 | Cost: 0.2925000 | Accuracy: 0.9375000 \n",
            "Autograd ArrayBox with value 0.3800000000000001\n",
            "0.23500000000000001\n",
            "Iter:    18 | Cost: 0.2350000 | Accuracy: 1.0000000 \n",
            "Autograd ArrayBox with value 0.18000000000000005\n",
            "0.3825000000000001\n",
            "Iter:    19 | Cost: 0.3825000 | Accuracy: 1.0000000 \n",
            "Autograd ArrayBox with value 0.31000000000000005\n",
            "0.39749999999999996\n",
            "Iter:    20 | Cost: 0.3975000 | Accuracy: 0.8125000 \n",
            "Autograd ArrayBox with value 0.3825000000000001\n",
            "0.3550000000000001\n",
            "Iter:    21 | Cost: 0.3550000 | Accuracy: 1.0000000 \n",
            "Autograd ArrayBox with value 0.3500000000000001\n",
            "0.2525\n",
            "Iter:    22 | Cost: 0.2525000 | Accuracy: 0.9375000 \n",
            "Autograd ArrayBox with value 0.20000000000000004\n",
            "0.26000000000000006\n",
            "Iter:    23 | Cost: 0.2600000 | Accuracy: 1.0000000 \n",
            "Autograd ArrayBox with value 0.0675\n",
            "0.1325\n",
            "Iter:    24 | Cost: 0.1325000 | Accuracy: 1.0000000 \n",
            "Autograd ArrayBox with value 0.16250000000000003\n",
            "0.215\n",
            "Iter:    25 | Cost: 0.2150000 | Accuracy: 1.0000000 \n",
            "Autograd ArrayBox with value 0.0975\n",
            "0.15000000000000002\n",
            "Iter:    26 | Cost: 0.1500000 | Accuracy: 1.0000000 \n",
            "Autograd ArrayBox with value 0.052500000000000005\n",
            "0.12000000000000002\n",
            "Iter:    27 | Cost: 0.1200000 | Accuracy: 0.9375000 \n",
            "Autograd ArrayBox with value 0.09250000000000003\n",
            "0.07\n",
            "Iter:    28 | Cost: 0.0700000 | Accuracy: 1.0000000 \n",
            "Autograd ArrayBox with value 0.037500000000000006\n",
            "0.095\n",
            "Iter:    29 | Cost: 0.0950000 | Accuracy: 1.0000000 \n",
            "Autograd ArrayBox with value 0.04000000000000001\n",
            "0.07500000000000001\n",
            "Iter:    30 | Cost: 0.0750000 | Accuracy: 1.0000000 \n"
          ]
        }
      ],
      "metadata": {
        "colab": {
          "base_uri": "https://localhost:8080/"
        },
        "id": "OVel5Q_IajLc",
        "outputId": "207ca509-1cf8-44b2-c27e-6a70b62d393e"
      }
    },
    {
      "cell_type": "code",
      "execution_count": 33,
      "source": [
        "def get_z(k):\r\n",
        "  t=variational_circut(var,[int(i) for i in k])\r\n",
        "  z=[]\r\n",
        "  for i in t:\r\n",
        "    if i<0:\r\n",
        "      z.append(0)\r\n",
        "    else:\r\n",
        "      z.append(1)\r\n",
        "  return z  \r\n"
      ],
      "outputs": [],
      "metadata": {
        "id": "sGIjwIL8jmkm"
      }
    },
    {
      "cell_type": "markdown",
      "source": [
        "Creating a function so that we can use see the output of the variational circuit as a image of amd correct outputs have a vertical and horizontal lines in them."
      ],
      "metadata": {}
    },
    {
      "cell_type": "code",
      "execution_count": 34,
      "source": [
        "def get_image(i):\r\n",
        "  inp=\"{:04b}\".format(i)\r\n",
        "  oup=get_z(\"{:04b}\".format(i))\r\n",
        "  tru = np.array([int(i) for i in inp]).reshape((2, 2))\r\n",
        "  img = np.array(oup).reshape((2, 2))\r\n",
        "  fig, ax = plt.subplots(ncols=2)\r\n",
        "  fig.suptitle(\"Input:{} Output:{}\".format(inp,oup))\r\n",
        "  ax[0].imshow(tru)\r\n",
        "  ax[1].imshow(img)\r\n",
        "  plt.xticks=[0,1]\r\n",
        "  plt.yticks=[1,0]\r\n",
        "\r\n",
        "  plt.show()\r\n",
        "get_image(1)"
      ],
      "outputs": [
        {
          "output_type": "display_data",
          "data": {
            "image/png": "[encoded data removed]",
            "text/plain": [
              "<Figure size 432x288 with 2 Axes>"
            ]
          },
          "metadata": {
            "needs_background": "light"
          }
        }
      ],
      "metadata": {
        "colab": {
          "base_uri": "https://localhost:8080/",
          "height": 262
        },
        "id": "KxpCFHfSsaPZ",
        "outputId": "0e27d3ce-1bbc-4419-839c-d6af30a299f3"
      }
    },
    {
      "cell_type": "markdown",
      "source": [
        "# What would happen if you provided a different state?"
      ],
      "metadata": {}
    },
    {
      "cell_type": "code",
      "execution_count": 35,
      "source": [
        "for i in range(16):\r\n",
        "  get_image(i)\r\n",
        "  print(i)"
      ],
      "outputs": [
        {
          "output_type": "display_data",
          "data": {
            "image/png": "[encoded data removed]",
            "text/plain": [
              "<Figure size 432x288 with 2 Axes>"
            ]
          },
          "metadata": {
            "needs_background": "light"
          }
        },
        {
          "output_type": "stream",
          "name": "stdout",
          "text": [
            "0\n"
          ]
        },
        {
          "output_type": "display_data",
          "data": {
            "image/png": "[encoded data removed]",
            "text/plain": [
              "<Figure size 432x288 with 2 Axes>"
            ]
          },
          "metadata": {
            "needs_background": "light"
          }
        },
        {
          "output_type": "stream",
          "name": "stdout",
          "text": [
            "1\n"
          ]
        },
        {
          "output_type": "display_data",
          "data": {
            "image/png": "[encoded data removed]",
            "text/plain": [
              "<Figure size 432x288 with 2 Axes>"
            ]
          },
          "metadata": {
            "needs_background": "light"
          }
        },
        {
          "output_type": "stream",
          "name": "stdout",
          "text": [
            "2\n"
          ]
        },
        {
          "output_type": "display_data",
          "data": {
            "image/png": "[encoded data removed]",
            "text/plain": [
              "<Figure size 432x288 with 2 Axes>"
            ]
          },
          "metadata": {
            "needs_background": "light"
          }
        },
        {
          "output_type": "stream",
          "name": "stdout",
          "text": [
            "3\n"
          ]
        },
        {
          "output_type": "display_data",
          "data": {
            "image/png": "[encoded data removed]",
            "text/plain": [
              "<Figure size 432x288 with 2 Axes>"
            ]
          },
          "metadata": {
            "needs_background": "light"
          }
        },
        {
          "output_type": "stream",
          "name": "stdout",
          "text": [
            "4\n"
          ]
        },
        {
          "output_type": "display_data",
          "data": {
            "image/png": "[encoded data removed]",
            "text/plain": [
              "<Figure size 432x288 with 2 Axes>"
            ]
          },
          "metadata": {
            "needs_background": "light"
          }
        },
        {
          "output_type": "stream",
          "name": "stdout",
          "text": [
            "5\n"
          ]
        },
        {
          "output_type": "display_data",
          "data": {
            "image/png": "[encoded data removed]",
            "text/plain": [
              "<Figure size 432x288 with 2 Axes>"
            ]
          },
          "metadata": {
            "needs_background": "light"
          }
        },
        {
          "output_type": "stream",
          "name": "stdout",
          "text": [
            "6\n"
          ]
        },
        {
          "output_type": "display_data",
          "data": {
            "image/png": "[encoded data removed]",
            "text/plain": [
              "<Figure size 432x288 with 2 Axes>"
            ]
          },
          "metadata": {
            "needs_background": "light"
          }
        },
        {
          "output_type": "stream",
          "name": "stdout",
          "text": [
            "7\n"
          ]
        },
        {
          "output_type": "display_data",
          "data": {
            "image/png": "[encoded data removed]",
            "text/plain": [
              "<Figure size 432x288 with 2 Axes>"
            ]
          },
          "metadata": {
            "needs_background": "light"
          }
        },
        {
          "output_type": "stream",
          "name": "stdout",
          "text": [
            "8\n"
          ]
        },
        {
          "output_type": "display_data",
          "data": {
            "image/png": "[encoded data removed]",
            "text/plain": [
              "<Figure size 432x288 with 2 Axes>"
            ]
          },
          "metadata": {
            "needs_background": "light"
          }
        },
        {
          "output_type": "stream",
          "name": "stdout",
          "text": [
            "9\n"
          ]
        },
        {
          "output_type": "display_data",
          "data": {
            "image/png": "[encoded data removed]",
            "text/plain": [
              "<Figure size 432x288 with 2 Axes>"
            ]
          },
          "metadata": {
            "needs_background": "light"
          }
        },
        {
          "output_type": "stream",
          "name": "stdout",
          "text": [
            "10\n"
          ]
        },
        {
          "output_type": "display_data",
          "data": {
            "image/png": "[encoded data removed]",
            "text/plain": [
              "<Figure size 432x288 with 2 Axes>"
            ]
          },
          "metadata": {
            "needs_background": "light"
          }
        },
        {
          "output_type": "stream",
          "name": "stdout",
          "text": [
            "11\n"
          ]
        },
        {
          "output_type": "display_data",
          "data": {
            "image/png": "[encoded data removed]",
            "text/plain": [
              "<Figure size 432x288 with 2 Axes>"
            ]
          },
          "metadata": {
            "needs_background": "light"
          }
        },
        {
          "output_type": "stream",
          "name": "stdout",
          "text": [
            "12\n"
          ]
        },
        {
          "output_type": "display_data",
          "data": {
            "image/png": "[encoded data removed]",
            "text/plain": [
              "<Figure size 432x288 with 2 Axes>"
            ]
          },
          "metadata": {
            "needs_background": "light"
          }
        },
        {
          "output_type": "stream",
          "name": "stdout",
          "text": [
            "13\n"
          ]
        },
        {
          "output_type": "display_data",
          "data": {
            "image/png": "[encoded data removed]",
            "text/plain": [
              "<Figure size 432x288 with 2 Axes>"
            ]
          },
          "metadata": {
            "needs_background": "light"
          }
        },
        {
          "output_type": "stream",
          "name": "stdout",
          "text": [
            "14\n"
          ]
        },
        {
          "output_type": "display_data",
          "data": {
            "image/png": "[encoded data removed]",
            "text/plain": [
              "<Figure size 432x288 with 2 Axes>"
            ]
          },
          "metadata": {
            "needs_background": "light"
          }
        },
        {
          "output_type": "stream",
          "name": "stdout",
          "text": [
            "15\n"
          ]
        }
      ],
      "metadata": {
        "colab": {
          "base_uri": "https://localhost:8080/",
          "height": 1000
        },
        "id": "l6veJdFEys0S",
        "outputId": "954086cd-c428-4a50-b7d2-e0e24da75645"
      }
    }
  ]
}